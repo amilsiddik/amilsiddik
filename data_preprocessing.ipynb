{
  "nbformat": 4,
  "nbformat_minor": 0,
  "metadata": {
    "colab": {
      "name": "data preprocessing.ipynb",
      "provenance": [],
      "authorship_tag": "ABX9TyP3XT1kYjKmrJvDorcLaDXd",
      "include_colab_link": true
    },
    "kernelspec": {
      "name": "python3",
      "display_name": "Python 3"
    },
    "language_info": {
      "name": "python"
    },
    "accelerator": "GPU"
  },
  "cells": [
    {
      "cell_type": "markdown",
      "metadata": {
        "id": "view-in-github",
        "colab_type": "text"
      },
      "source": [
        "<a href=\"https://colab.research.google.com/github/amilsiddik/amilsiddik/blob/main/data_preprocessing.ipynb\" target=\"_parent\"><img src=\"https://colab.research.google.com/assets/colab-badge.svg\" alt=\"Open In Colab\"/></a>"
      ]
    },
    {
      "cell_type": "markdown",
      "metadata": {
        "id": "uBz7-41yAq8U"
      },
      "source": [
        "**Data Preprocessing**"
      ]
    },
    {
      "cell_type": "markdown",
      "metadata": {
        "id": "MiIN6b_pA3K5"
      },
      "source": [
        "Sample Data"
      ]
    },
    {
      "cell_type": "code",
      "metadata": {
        "colab": {
          "base_uri": "https://localhost:8080/"
        },
        "id": "YxDCoRMI_vRi",
        "outputId": "07569d1f-e482-48ad-d466-9f8f92c0e2ca"
      },
      "source": [
        "import numpy as np\n",
        "from sklearn import preprocessing\n",
        "sample_data = np.array([[2.1,-1.0,4.5],\n",
        "                       [-1.5,2.4,3.5],\n",
        "                       [0.5,-0.7,5.6],\n",
        "                       [5.9,2.3,-5.8]])\n",
        "sample_data"
      ],
      "execution_count": 5,
      "outputs": [
        {
          "output_type": "execute_result",
          "data": {
            "text/plain": [
              "array([[ 2.1, -1. ,  4.5],\n",
              "       [-1.5,  2.4,  3.5],\n",
              "       [ 0.5, -0.7,  5.6],\n",
              "       [ 5.9,  2.3, -5.8]])"
            ]
          },
          "metadata": {},
          "execution_count": 5
        }
      ]
    },
    {
      "cell_type": "markdown",
      "metadata": {
        "id": "ct2qF7bfBgko"
      },
      "source": [
        "1. Binarisation"
      ]
    },
    {
      "cell_type": "code",
      "metadata": {
        "colab": {
          "base_uri": "https://localhost:8080/"
        },
        "id": "7KWL58l9Bfvj",
        "outputId": "9333eddd-e907-462c-9930-bb3c1ed4f391"
      },
      "source": [
        "sample_data"
      ],
      "execution_count": 3,
      "outputs": [
        {
          "output_type": "execute_result",
          "data": {
            "text/plain": [
              "array([[ 2.1, -1. ,  4.5],\n",
              "       [-1.5,  2.4,  3.5],\n",
              "       [ 0.5, -0.7,  5.6],\n",
              "       [ 5.9,  2.3, -5.8]])"
            ]
          },
          "metadata": {},
          "execution_count": 3
        }
      ]
    },
    {
      "cell_type": "code",
      "metadata": {
        "colab": {
          "base_uri": "https://localhost:8080/"
        },
        "id": "rmdoxef5Bmhe",
        "outputId": "901528c5-6411-4a27-8789-0d178282084d"
      },
      "source": [
        "preprocessor = preprocessing.Binarizer(threshold=0.5)\n",
        "binarised_data = preprocessor.transform(sample_data)\n",
        "binarised_data"
      ],
      "execution_count": 4,
      "outputs": [
        {
          "output_type": "execute_result",
          "data": {
            "text/plain": [
              "array([[1., 0., 1.],\n",
              "       [0., 1., 1.],\n",
              "       [0., 0., 1.],\n",
              "       [1., 1., 0.]])"
            ]
          },
          "metadata": {},
          "execution_count": 4
        }
      ]
    },
    {
      "cell_type": "markdown",
      "metadata": {
        "id": "7SY4mVqqCbCg"
      },
      "source": [
        "2. Scaling"
      ]
    },
    {
      "cell_type": "code",
      "metadata": {
        "colab": {
          "base_uri": "https://localhost:8080/"
        },
        "id": "WB7cRbOdCZgj",
        "outputId": "1201e64a-baff-476f-c8d8-51d9cca9e25d"
      },
      "source": [
        "sample_data"
      ],
      "execution_count": 3,
      "outputs": [
        {
          "output_type": "execute_result",
          "data": {
            "text/plain": [
              "array([[ 2.1, -1. ,  4.5],\n",
              "       [-1.5,  2.4,  3.5],\n",
              "       [ 0.5, -0.7,  5.6],\n",
              "       [ 5.9,  2.3, -5.8]])"
            ]
          },
          "metadata": {},
          "execution_count": 3
        }
      ]
    },
    {
      "cell_type": "code",
      "metadata": {
        "colab": {
          "base_uri": "https://localhost:8080/"
        },
        "id": "aOOEg66ACw_l",
        "outputId": "47657198-926d-4ca1-d5a2-a2675a3b4675"
      },
      "source": [
        "preprocessor = preprocessing.MinMaxScaler(feature_range=(0,1))\n",
        "preprocessor.fit(sample_data)\n",
        "scaled_data = preprocessor.transform(sample_data)\n",
        "scaled_data"
      ],
      "execution_count": 8,
      "outputs": [
        {
          "output_type": "execute_result",
          "data": {
            "text/plain": [
              "array([[0.48648649, 0.        , 0.90350877],\n",
              "       [0.        , 1.        , 0.81578947],\n",
              "       [0.27027027, 0.08823529, 1.        ],\n",
              "       [1.        , 0.97058824, 0.        ]])"
            ]
          },
          "metadata": {},
          "execution_count": 8
        }
      ]
    },
    {
      "cell_type": "code",
      "metadata": {
        "colab": {
          "base_uri": "https://localhost:8080/"
        },
        "id": "RLuSBQjtDstj",
        "outputId": "92413acb-0706-40c4-b1fc-f3413ce0723e"
      },
      "source": [
        "scaled_data = preprocessor.fit_transform(sample_data)\n",
        "scaled_data"
      ],
      "execution_count": 9,
      "outputs": [
        {
          "output_type": "execute_result",
          "data": {
            "text/plain": [
              "array([[0.48648649, 0.        , 0.90350877],\n",
              "       [0.        , 1.        , 0.81578947],\n",
              "       [0.27027027, 0.08823529, 1.        ],\n",
              "       [1.        , 0.97058824, 0.        ]])"
            ]
          },
          "metadata": {},
          "execution_count": 9
        }
      ]
    },
    {
      "cell_type": "markdown",
      "metadata": {
        "id": "q-VLz4bZEaFp"
      },
      "source": [
        "Normalisasi **L1** Least Absolute Deviation"
      ]
    },
    {
      "cell_type": "code",
      "metadata": {
        "colab": {
          "base_uri": "https://localhost:8080/"
        },
        "id": "-4ZJmZsJEd6O",
        "outputId": "62ecf273-21f8-4d07-bd13-d54f27e8cea1"
      },
      "source": [
        "sample_data"
      ],
      "execution_count": 10,
      "outputs": [
        {
          "output_type": "execute_result",
          "data": {
            "text/plain": [
              "array([[ 2.1, -1. ,  4.5],\n",
              "       [-1.5,  2.4,  3.5],\n",
              "       [ 0.5, -0.7,  5.6],\n",
              "       [ 5.9,  2.3, -5.8]])"
            ]
          },
          "metadata": {},
          "execution_count": 10
        }
      ]
    },
    {
      "cell_type": "code",
      "metadata": {
        "colab": {
          "base_uri": "https://localhost:8080/"
        },
        "id": "JMEx0MySEiyG",
        "outputId": "c0861ec3-0a12-4dc4-d788-4538fc24f500"
      },
      "source": [
        "l1_normalised_data=preprocessing.normalize(sample_data,norm='l1')\n",
        "l1_normalised_data"
      ],
      "execution_count": 11,
      "outputs": [
        {
          "output_type": "execute_result",
          "data": {
            "text/plain": [
              "array([[ 0.27631579, -0.13157895,  0.59210526],\n",
              "       [-0.2027027 ,  0.32432432,  0.47297297],\n",
              "       [ 0.07352941, -0.10294118,  0.82352941],\n",
              "       [ 0.42142857,  0.16428571, -0.41428571]])"
            ]
          },
          "metadata": {},
          "execution_count": 11
        }
      ]
    },
    {
      "cell_type": "markdown",
      "metadata": {
        "id": "2Pip9X5NFi8o"
      },
      "source": [
        "Normalisasi **L2** Least Squares"
      ]
    },
    {
      "cell_type": "code",
      "metadata": {
        "colab": {
          "base_uri": "https://localhost:8080/"
        },
        "id": "Q0mxA0HyFqs2",
        "outputId": "a28da207-4874-4f39-bc95-ff406151efe0"
      },
      "source": [
        "sample_data"
      ],
      "execution_count": 12,
      "outputs": [
        {
          "output_type": "execute_result",
          "data": {
            "text/plain": [
              "array([[ 2.1, -1. ,  4.5],\n",
              "       [-1.5,  2.4,  3.5],\n",
              "       [ 0.5, -0.7,  5.6],\n",
              "       [ 5.9,  2.3, -5.8]])"
            ]
          },
          "metadata": {},
          "execution_count": 12
        }
      ]
    },
    {
      "cell_type": "code",
      "metadata": {
        "colab": {
          "base_uri": "https://localhost:8080/"
        },
        "id": "wnxoFUvgFtHQ",
        "outputId": "23bb91c6-c574-458c-e50f-4c2f25f34f80"
      },
      "source": [
        "l2_normalised_data=preprocessing.normalize(sample_data,norm='l2')\n",
        "l2_normalised_data"
      ],
      "execution_count": 13,
      "outputs": [
        {
          "output_type": "execute_result",
          "data": {
            "text/plain": [
              "array([[ 0.41456341, -0.19741115,  0.88835017],\n",
              "       [-0.33325106,  0.53320169,  0.7775858 ],\n",
              "       [ 0.08825056, -0.12355079,  0.98840631],\n",
              "       [ 0.68706914,  0.26784051, -0.6754239 ]])"
            ]
          },
          "metadata": {},
          "execution_count": 13
        }
      ]
    }
  ]
}