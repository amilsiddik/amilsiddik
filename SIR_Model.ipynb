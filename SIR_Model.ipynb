{
  "nbformat": 4,
  "nbformat_minor": 0,
  "metadata": {
    "colab": {
      "name": "SIR Model.ipynb",
      "provenance": [],
      "authorship_tag": "ABX9TyOtalt6cB2pfz+S4MdPadg3",
      "include_colab_link": true
    },
    "kernelspec": {
      "name": "python3",
      "display_name": "Python 3"
    },
    "language_info": {
      "name": "python"
    }
  },
  "cells": [
    {
      "cell_type": "markdown",
      "metadata": {
        "id": "view-in-github",
        "colab_type": "text"
      },
      "source": [
        "<a href=\"https://colab.research.google.com/github/amilsiddik/amilsiddik/blob/main/SIR_Model.ipynb\" target=\"_parent\"><img src=\"https://colab.research.google.com/assets/colab-badge.svg\" alt=\"Open In Colab\"/></a>"
      ]
    },
    {
      "cell_type": "code",
      "metadata": {
        "colab": {
          "base_uri": "https://localhost:8080/",
          "height": 280
        },
        "id": "-OJVoiWKH4oG",
        "outputId": "c9175c7c-2439-49f4-d36f-28d6d1b2ceed"
      },
      "source": [
        "import numpy as np\n",
        "import matplotlib.pyplot as plt\n",
        "from scipy.integrate import odeint\n",
        "\n",
        "\n",
        "\n",
        "t = np.linspace(0,500, num=1000)\n",
        "\n",
        "beta = 0.04\n",
        "gamma = 0.01\n",
        "\n",
        "\n",
        "params = [beta,gamma]\n",
        "\n",
        "\n",
        "y0 = [100, 1, 0]\n",
        "\n",
        "\n",
        "\n",
        "def sim(variables, t, params):\n",
        "\n",
        "    S = variables[0]\n",
        "    I = variables[1]\n",
        "    R = variables[2]\n",
        "\n",
        "    N = S + I + R\n",
        "\n",
        "    beta = params[0]\n",
        "    gamma = params[1]\n",
        "\n",
        "    dSdt = -beta * I * S / N\n",
        "    dIdt = beta * I * S / N - gamma * I\n",
        "    dRdt = gamma * I\n",
        "\n",
        "    return([dSdt, dIdt, dRdt])\n",
        "\n",
        "\n",
        "y = odeint(sim, y0, t, args=(params,))\n",
        "\n",
        "\n",
        "\n",
        "f,(ax1,ax2,ax3) = plt.subplots(3)\n",
        "\n",
        "line1, = ax1.plot(t,y[:,0]) # S\n",
        "line2, = ax2.plot(t,y[:,1]) # I\n",
        "line3, = ax3.plot(t,y[:,2]) # R\n",
        "\n",
        "\n",
        "\n",
        "ax1.set_ylabel(\"S\")\n",
        "ax2.set_ylabel(\"I\")\n",
        "ax3.set_ylabel(\"R\")\n",
        "ax3.set_xlabel(\"Time\")\n",
        "\n",
        "plt.show()"
      ],
      "execution_count": 1,
      "outputs": [
        {
          "output_type": "display_data",
          "data": {
            "image/png": "[encoded data removed]",
            "text/plain": [
              "<Figure size 432x288 with 3 Axes>"
            ]
          },
          "metadata": {
            "needs_background": "light"
          }
        }
      ]
    }
  ]
}